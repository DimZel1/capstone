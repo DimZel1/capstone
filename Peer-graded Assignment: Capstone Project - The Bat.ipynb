{
    "cells": [
        {
            "cell_type": "markdown",
            "metadata": {
                "collapsed": true
            },
            "source": "# Week 4 project"
        },
        {
            "cell_type": "markdown",
            "metadata": {},
            "source": "1) A description of the problem and a discussion of the background.\n\nOn behalf of an investment company I am assigned to find out the best region in Athens to build a restaurant.\nAs a result I will have to investigate the current venue data using foursquare and extract relevant conclusions"
        },
        {
            "cell_type": "markdown",
            "metadata": {},
            "source": "2) A description of the data and how it will be used to solve the problem.\n\nI will extract where the competitors are located and most visited places to see where the most people are located."
        },
        {
            "cell_type": "code",
            "execution_count": null,
            "metadata": {},
            "outputs": [],
            "source": ""
        }
    ],
    "metadata": {
        "kernelspec": {
            "display_name": "Python 3.6",
            "language": "python",
            "name": "python3"
        },
        "language_info": {
            "codemirror_mode": {
                "name": "ipython",
                "version": 3
            },
            "file_extension": ".py",
            "mimetype": "text/x-python",
            "name": "python",
            "nbconvert_exporter": "python",
            "pygments_lexer": "ipython3",
            "version": "3.6.9"
        }
    },
    "nbformat": 4,
    "nbformat_minor": 1
}